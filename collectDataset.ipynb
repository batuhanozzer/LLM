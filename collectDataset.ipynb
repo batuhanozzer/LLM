{
 "cells": [
  {
   "metadata": {
    "collapsed": true,
    "ExecuteTime": {
     "end_time": "2025-04-26T13:24:47.581295Z",
     "start_time": "2025-04-26T13:24:43.129389Z"
    }
   },
   "cell_type": "code",
   "source": [
    "from datasets import load_dataset\n",
    "import pandas as pd\n",
    "\n",
    "dataset = load_dataset(\"Mxode/StackOverflow-QA-C-Language-5k\")\n",
    "df = pd.DataFrame(dataset[\"train\"])"
   ],
   "id": "initial_id",
   "outputs": [
    {
     "name": "stderr",
     "output_type": "stream",
     "text": [
      "C:\\Users\\batuh\\AppData\\Local\\Packages\\PythonSoftwareFoundation.Python.3.13_qbz5n2kfra8p0\\LocalCache\\local-packages\\Python313\\site-packages\\tqdm\\auto.py:21: TqdmWarning: IProgress not found. Please update jupyter and ipywidgets. See https://ipywidgets.readthedocs.io/en/stable/user_install.html\n",
      "  from .autonotebook import tqdm as notebook_tqdm\n"
     ]
    }
   ],
   "execution_count": 1
  },
  {
   "metadata": {
    "ExecuteTime": {
     "end_time": "2025-04-26T13:24:54.849525Z",
     "start_time": "2025-04-26T13:24:54.841955Z"
    }
   },
   "cell_type": "code",
   "source": "df.shape",
   "id": "5a6d997cb4f32629",
   "outputs": [
    {
     "data": {
      "text/plain": [
       "(5151, 2)"
      ]
     },
     "execution_count": 2,
     "metadata": {},
     "output_type": "execute_result"
    }
   ],
   "execution_count": 2
  },
  {
   "metadata": {
    "ExecuteTime": {
     "end_time": "2025-04-26T13:25:02.955199Z",
     "start_time": "2025-04-26T13:25:02.917643Z"
    }
   },
   "cell_type": "code",
   "source": [
    "# After you've successfully loaded the data into your DataFrame\n",
    "df.to_csv('stackoverflow_c_questions_5k.csv', index=False)"
   ],
   "id": "dd0ef670aebff82b",
   "outputs": [],
   "execution_count": 3
  }
 ],
 "metadata": {
  "kernelspec": {
   "display_name": "Python 3",
   "language": "python",
   "name": "python3"
  },
  "language_info": {
   "codemirror_mode": {
    "name": "ipython",
    "version": 2
   },
   "file_extension": ".py",
   "mimetype": "text/x-python",
   "name": "python",
   "nbconvert_exporter": "python",
   "pygments_lexer": "ipython2",
   "version": "2.7.6"
  }
 },
 "nbformat": 4,
 "nbformat_minor": 5
}
